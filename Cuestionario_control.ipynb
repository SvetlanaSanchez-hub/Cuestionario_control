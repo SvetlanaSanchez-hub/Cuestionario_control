{
  "nbformat": 4,
  "nbformat_minor": 0,
  "metadata": {
    "colab": {
      "name": "Cuestionario_control.ipynb",
      "provenance": [],
      "authorship_tag": "ABX9TyMvO/8Fprae7PsemM+iskjP",
      "include_colab_link": true
    },
    "kernelspec": {
      "name": "python3",
      "display_name": "Python 3"
    },
    "language_info": {
      "name": "python"
    }
  },
  "cells": [
    {
      "cell_type": "markdown",
      "metadata": {
        "id": "view-in-github",
        "colab_type": "text"
      },
      "source": [
        "<a href=\"https://colab.research.google.com/github/SvetlanaSanchez-hub/Cuestionario_control/blob/main/Cuestionario_control.ipynb\" target=\"_parent\"><img src=\"https://colab.research.google.com/assets/colab-badge.svg\" alt=\"Open In Colab\"/></a>"
      ]
    },
    {
      "cell_type": "code",
      "metadata": {
        "id": "Sc-5-2rRvcyW"
      },
      "source": [
        "class Persona:\n",
        "        def __init__( self , n , e , est ):\n",
        "             self.__nombre = n\n",
        "             self.__edad = e\n",
        "             self.__estatura = est\n",
        "\n",
        "        def to_string( self ):\n",
        "            return \" Nombre: \" + self.__nombre + \" Edad: \"+ str(self.__edad) + \" Estatura: \" + str(self.__estatura)\n",
        "\n",
        "        def set_estatura( self , nueva_est):\n",
        "            if nueva_est > 0.10 and nueva_est < 2.5 :\n",
        "                self.__estatura = nueva_est\n",
        "            else:\n",
        "                print(\"Esa estatura no es posible\")\n",
        "\n",
        "        def get_estatura( self ):\n",
        "             return self.__estatura"
      ],
      "execution_count": 1,
      "outputs": []
    },
    {
      "cell_type": "code",
      "metadata": {
        "colab": {
          "base_uri": "https://localhost:8080/"
        },
        "id": "208n7N7Xvmhp",
        "outputId": "83f42be5-570b-49d7-ea3d-3d813a09f4e3"
      },
      "source": [
        "    per = Persona(\"Jose\", 19, 1.70)\n",
        "    print(per.to_string())\n",
        "\n",
        "    # encapsulamiento\n",
        "\n",
        "    per.nombre = \"Pedro\"\n",
        "    print(per.to_string())\n",
        "\n",
        "    #per.estatura = 3.9\n",
        "    per.set_estatura(1.9)\n",
        "    print(per.to_string())\n",
        "\n",
        "    print(\"Estatura:\" , end=\"\")\n",
        "    #print( per.__estatura )\n",
        "    print(per.get_estatura())"
      ],
      "execution_count": 3,
      "outputs": [
        {
          "output_type": "stream",
          "name": "stdout",
          "text": [
            " Nombre: Jose Edad: 19 Estatura: 1.7\n",
            " Nombre: Jose Edad: 19 Estatura: 1.7\n",
            " Nombre: Jose Edad: 19 Estatura: 1.9\n",
            "Estatura:1.9\n"
          ]
        }
      ]
    },
    {
      "cell_type": "code",
      "metadata": {
        "id": "698gZnpmvuU0"
      },
      "source": [
        "class Estudiante( Persona ):\n",
        "        def __init__(self, nc, nombre , edad , est):\n",
        "            self.__num_cta = nc\n",
        "            super().__init__(nombre,edad,est)\n",
        "\n",
        "        def to_string( self ):\n",
        "            return super().to_string() + \"Numero de cta: \" + self.__num_cta"
      ],
      "execution_count": 4,
      "outputs": []
    },
    {
      "cell_type": "code",
      "metadata": {
        "colab": {
          "base_uri": "https://localhost:8080/"
        },
        "id": "cMk_c1DIvxHT",
        "outputId": "a0d0807a-396b-4133-b77e-2cee15bb999d"
      },
      "source": [
        "    est = Estudiante( \"318158929\",\"Jose\",19,1.7)\n",
        "    print( est.to_string())"
      ],
      "execution_count": 6,
      "outputs": [
        {
          "output_type": "stream",
          "name": "stdout",
          "text": [
            " Nombre: Jose Edad: 19 Estatura: 1.7Numero de cta: 318158929\n"
          ]
        }
      ]
    }
  ]
}